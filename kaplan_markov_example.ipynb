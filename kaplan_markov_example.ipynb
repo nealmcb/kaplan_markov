{
 "cells": [
  {
   "cell_type": "markdown",
   "metadata": {},
   "source": [
    "# Kaplan-Markov Risk-Limiting Batch Comparison Audits\n",
    "\n",
    "This notebook provides an example of the use of the `kaplan_markov.py` code in this repository.\n",
    "It reproduces a full example of the set-up for the audit of the 2010 Boulder County Coroner contest, as documented at:\n",
    "\n",
    "  http://bcn.boulder.co.us/~neal/elections/boulder-audit-10-11/\n",
    "\n",
    "For the underlying formulas and a worked example, see\n",
    " A Kaplan-Markov auditing example using 2008 California data\n",
    " Mark Lindeman, 1/10/2010 (v. 1.2x, 3/1/2010)\n",
    " https://d56fe2f5-a-62cb3a1a-s-sites.googlegroups.com/site/electionaudits/small-batch/kaplan-example-12x.pdf\n",
    "\n",
    "Another test case in this repository works with the batch data from Lindeman's example, a 2008 election in California’s 3rd Congressional District (CD3), reproduced here in the file `ca-cd3-2018-batches.csv`\n",
    "\n",
    "That is a subset of the full set of batches, from California's Statewide Database (SWDB).\n",
    "To fully replicate the calculations, we'd need that whole dataset."
   ]
  },
  {
   "cell_type": "code",
   "execution_count": 1,
   "metadata": {},
   "outputs": [],
   "source": [
    "import csv\n",
    "from kaplan_markov import *"
   ]
  },
  {
   "cell_type": "code",
   "execution_count": 2,
   "metadata": {},
   "outputs": [],
   "source": [
    "csvfile = \"boulder_2010_coroner_contest_batch_data.csv\""
   ]
  },
  {
   "cell_type": "code",
   "execution_count": 3,
   "metadata": {},
   "outputs": [],
   "source": [
    "reader = csv.DictReader(open(csvfile, \"r\"))"
   ]
  },
  {
   "cell_type": "code",
   "execution_count": 4,
   "metadata": {},
   "outputs": [],
   "source": [
    "rows = [row for row in reader]"
   ]
  },
  {
   "cell_type": "markdown",
   "metadata": {},
   "source": [
    "If all the batches of the election had been included in our data, the tally, margins and total_error_bound U would be:"
   ]
  },
  {
   "cell_type": "code",
   "execution_count": 5,
   "metadata": {},
   "outputs": [
    {
     "data": {
      "text/plain": [
       "({'pruett': 33924, 'hall': 49627, 'ballots': 121138},\n",
       " {'hall:pruett': 15703},\n",
       " 8.714322104056551)"
      ]
     },
     "execution_count": 5,
     "metadata": {},
     "output_type": "execute_result"
    }
   ],
   "source": [
    "audit_data(rows, \"name\", \"ballots\", [\"pruett\", \"hall\"], [\"hall\"], 0)"
   ]
  },
  {
   "cell_type": "markdown",
   "metadata": {},
   "source": [
    "But 5347 ballots were not tallied at the time of the audit, so we reduce all the margins by that count, and get this:"
   ]
  },
  {
   "cell_type": "code",
   "execution_count": 6,
   "metadata": {},
   "outputs": [
    {
     "data": {
      "text/plain": [
       "({'pruett': 33924, 'hall': 49627, 'ballots': 121138},\n",
       " {'hall:pruett': 10356},\n",
       " 13.213692545384328)"
      ]
     },
     "execution_count": 6,
     "metadata": {},
     "output_type": "execute_result"
    }
   ],
   "source": [
    "audit_data(rows, \"name\", \"ballots\", [\"pruett\", \"hall\"], [\"hall\"], -5347)"
   ]
  },
  {
   "cell_type": "markdown",
   "metadata": {},
   "source": [
    "The U value of 13.21 means that for a risk limit of 10%, an audit would require 30 batches to be audited if there were no discrepancies:"
   ]
  },
  {
   "cell_type": "code",
   "execution_count": 7,
   "metadata": {},
   "outputs": [
    {
     "data": {
      "text/plain": [
       "29.250753357917453"
      ]
     },
     "execution_count": 7,
     "metadata": {},
     "output_type": "execute_result"
    }
   ],
   "source": [
    "batch_draws(0.1, 13.21)"
   ]
  },
  {
   "cell_type": "markdown",
   "metadata": {},
   "source": [
    "In order to meet a 50% risk limit, 9 draws would be necessary:"
   ]
  },
  {
   "cell_type": "code",
   "execution_count": 8,
   "metadata": {},
   "outputs": [
    {
     "data": {
      "text/plain": [
       "8.805354156502075"
      ]
     },
     "execution_count": 8,
     "metadata": {},
     "output_type": "execute_result"
    }
   ],
   "source": [
    "batch_draws(0.5, 13.21)"
   ]
  }
 ],
 "metadata": {
  "kernelspec": {
   "display_name": "Python 3",
   "language": "python",
   "name": "python3"
  },
  "language_info": {
   "codemirror_mode": {
    "name": "ipython",
    "version": 3
   },
   "file_extension": ".py",
   "mimetype": "text/x-python",
   "name": "python",
   "nbconvert_exporter": "python",
   "pygments_lexer": "ipython3",
   "version": "3.7.4"
  }
 },
 "nbformat": 4,
 "nbformat_minor": 2
}
